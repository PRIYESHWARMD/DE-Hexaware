{
  "nbformat": 4,
  "nbformat_minor": 0,
  "metadata": {
    "colab": {
      "provenance": []
    },
    "kernelspec": {
      "name": "python3",
      "display_name": "Python 3"
    },
    "language_info": {
      "name": "python"
    }
  },
  "cells": [
    {
      "cell_type": "code",
      "execution_count": null,
      "metadata": {
        "id": "YbW5irfnZ_dr"
      },
      "outputs": [],
      "source": [
        "from pyspark import SparkContext\n",
        "from pyspark.sql import SparkSession"
      ]
    },
    {
      "cell_type": "code",
      "source": [
        "spark=SparkSession.builder.appName(\"Case_Study_Spark\").getOrCreate()"
      ],
      "metadata": {
        "id": "JklRJYNbbKmV"
      },
      "execution_count": null,
      "outputs": []
    },
    {
      "cell_type": "code",
      "source": [
        "loanDf=spark.read.csv(\"loan.csv\",header=True,inferSchema=True)\n",
        "loanDf.show()"
      ],
      "metadata": {
        "colab": {
          "base_uri": "https://localhost:8080/"
        },
        "id": "8O092E78bj14",
        "outputId": "9fd0c0ef-ccf2-4bf3-d432-a9b30773bbcf"
      },
      "execution_count": null,
      "outputs": [
        {
          "output_type": "stream",
          "name": "stdout",
          "text": [
            "+-----------+---+------+-------------------+--------------+-----------+------+-----------+-------------+------------------+-----------+-------+------------+----------------+------------------+\n",
            "|Customer_ID|Age|Gender|         Occupation|Marital Status|Family Size|Income|Expenditure|Use Frequency|     Loan Category|Loan Amount|Overdue| Debt Record| Returned Cheque| Dishonour of Bill|\n",
            "+-----------+---+------+-------------------+--------------+-----------+------+-----------+-------------+------------------+-----------+-------+------------+----------------+------------------+\n",
            "|    IB14001| 30|  MALE|       BANK MANAGER|        SINGLE|          4| 50000|      22199|            6|           HOUSING| 10,00,000 |      5|      42,898|               6|                 9|\n",
            "|    IB14008| 44|  MALE|          PROFESSOR|       MARRIED|          6| 51000|      19999|            4|          SHOPPING|     50,000|      3|      33,999|               1|                 5|\n",
            "|    IB14012| 30|FEMALE|            DENTIST|        SINGLE|          3| 58450|      27675|            5|        TRAVELLING|     75,000|      6|      20,876|               3|                 1|\n",
            "|    IB14018| 29|  MALE|            TEACHER|       MARRIED|          5| 45767|      12787|            3|         GOLD LOAN|  6,00,000 |      7|      11,000|               0|                 4|\n",
            "|    IB14022| 34|  MALE|             POLICE|        SINGLE|          4| 43521|      11999|            3|        AUTOMOBILE|  2,00,000 |      2|      43,898|               1|                 2|\n",
            "|    IB14024| 55|FEMALE|              NURSE|       MARRIED|          6| 34999|      19888|            4|        AUTOMOBILE|     47,787|      1|      50,000|               0|                 3|\n",
            "|    IB14025| 39|FEMALE|            TEACHER|       MARRIED|          6| 46619|      18675|            4|           HOUSING| 12,09,867 |      8|      29,999|               6|                 8|\n",
            "|    IB14027| 51|  MALE|     SYSTEM MANAGER|       MARRIED|          3| 49999|      19111|            5|       RESTAURANTS|     60,676|      8|      13,000|               2|                 5|\n",
            "|    IB14029| 24|FEMALE|            TEACHER|        SINGLE|          3| 45008|      17454|            4|        AUTOMOBILE|  3,99,435 |      9|      51,987|               4|                 7|\n",
            "|    IB14031| 37|FEMALE|  SOFTWARE ENGINEER|       MARRIED|          5| 55999|      23999|            5|        AUTOMOBILE|     60,999|      2|           0|               5|                 3|\n",
            "|    IB14032| 24|  MALE|       DATA ANALYST|        SINGLE|          4| 60111|      28999|            6|        AUTOMOBILE|     35,232|      5|      33,333|               1|                 2|\n",
            "|    IB14034| 32|  MALE|   PRODUCT ENGINEER|       MARRIED|          6|  NULL|      29000|            7|COMPUTER SOFTWARES|     80,660|      6|       4,500|               5|                 4|\n",
            "|    IB14037| 54|FEMALE|            TEACHER|       MARRIED|          5| 48099|      19999|            4|       RESTAURANTS|     30,999|      1|      12,000|               7|                 5|\n",
            "|    IB14039| 45|  MALE|    ACCOUNT MANAGER|       MARRIED|          7| 45777|      18452|            4|         GOLD LOAN|  9,87,611 |      7|      39,999|               8|                 1|\n",
            "|    IB14041| 59|FEMALE|ASSISTANT PROFESSOR|       MARRIED|          4| 50999|      22999|            5|  EDUCATIONAL LOAN|  5,99,934 |      3|       9,000|               9|                 9|\n",
            "|    IB14042| 25|FEMALE|             DOCTOR|        SINGLE|          4| 60111|      27111|            5|        TRAVELLING| 12,90,929 |      4|      18,000|               1|                 0|\n",
            "|    IB14045| 31|  MALE|       STORE KEEPER|        SINGLE|          5| 40999|      11999|            3|       BOOK STORES|  1,67,654 |      1|       4,500|               0|                 1|\n",
            "|    IB14049| 49|  MALE|       BANK MANAGER|       MARRIED|          4| 45999|      14500|            4|        TRAVELLING|     79,999|      4|       6,700|               7|                 3|\n",
            "|    IB14050| 56|  MALE|     CIVIL ENGINEER|       MARRIED|          4|  NULL|      13999|            3|           HOUSING| 10,65,577 |      6|      19,999|               4|                 2|\n",
            "|    IB14054| 58|FEMALE|             DOCTOR|       MARRIED|          5| 60000|      25000|            5|           HOUSING|  9,00,000 |      5|      21,000|               9|                 0|\n",
            "+-----------+---+------+-------------------+--------------+-----------+------+-----------+-------------+------------------+-----------+-------+------------+----------------+------------------+\n",
            "only showing top 20 rows\n",
            "\n"
          ]
        }
      ]
    },
    {
      "cell_type": "markdown",
      "source": [
        "#number of loans in each category"
      ],
      "metadata": {
        "id": "I2GS7fRGcszR"
      }
    },
    {
      "cell_type": "code",
      "source": [
        "\n",
        "loanDf.groupBy(\"Loan Category\").count().show()"
      ],
      "metadata": {
        "colab": {
          "base_uri": "https://localhost:8080/"
        },
        "id": "Ank7rmcVcjEW",
        "outputId": "071582fa-64cb-4e92-f654-7225c415234e"
      },
      "execution_count": null,
      "outputs": [
        {
          "output_type": "stream",
          "name": "stdout",
          "text": [
            "+------------------+-----+\n",
            "|     Loan Category|count|\n",
            "+------------------+-----+\n",
            "|           HOUSING|   67|\n",
            "|        TRAVELLING|   53|\n",
            "|       BOOK STORES|    7|\n",
            "|       AGRICULTURE|   12|\n",
            "|         GOLD LOAN|   77|\n",
            "|  EDUCATIONAL LOAN|   20|\n",
            "|        AUTOMOBILE|   60|\n",
            "|          BUSINESS|   24|\n",
            "|COMPUTER SOFTWARES|   35|\n",
            "|           DINNING|   14|\n",
            "|          SHOPPING|   35|\n",
            "|       RESTAURANTS|   41|\n",
            "|       ELECTRONICS|   14|\n",
            "|          BUILDING|    7|\n",
            "|        RESTAURANT|   20|\n",
            "|   HOME APPLIANCES|   14|\n",
            "+------------------+-----+\n",
            "\n"
          ]
        }
      ]
    },
    {
      "cell_type": "markdown",
      "source": [
        "#number of people who have taken more than 1 lack loan"
      ],
      "metadata": {
        "id": "fHpOOT0FeJ6Q"
      }
    },
    {
      "cell_type": "code",
      "source": [
        "from pyspark.sql.functions import col,regexp_replace\n",
        "loanDf = loanDf.withColumn(\"LoanAmountClean\",regexp_replace(\"Loan Amount\",\",\",\"\").cast(\"int\"))\n",
        "loanDf.filter(col(\"LoanAmountClean\")>100000).count()\n"
      ],
      "metadata": {
        "colab": {
          "base_uri": "https://localhost:8080/"
        },
        "id": "xygK0-V0eOjz",
        "outputId": "4ea2036a-6db4-4215-83e6-97b79d4cf42e"
      },
      "execution_count": null,
      "outputs": [
        {
          "output_type": "execute_result",
          "data": {
            "text/plain": [
              "450"
            ]
          },
          "metadata": {},
          "execution_count": 6
        }
      ]
    },
    {
      "cell_type": "markdown",
      "source": [
        "#number of people with income greater than 60000 rupees"
      ],
      "metadata": {
        "id": "XvNvK9sKjz8r"
      }
    },
    {
      "cell_type": "code",
      "source": [
        "loanDf.filter(col(\"Income\")>60000).count()"
      ],
      "metadata": {
        "colab": {
          "base_uri": "https://localhost:8080/"
        },
        "id": "di1JIDVvfnYI",
        "outputId": "cad3db6c-56dd-443e-ee62-15f96dcf5156"
      },
      "execution_count": null,
      "outputs": [
        {
          "output_type": "execute_result",
          "data": {
            "text/plain": [
              "198"
            ]
          },
          "metadata": {},
          "execution_count": 34
        }
      ]
    },
    {
      "cell_type": "markdown",
      "source": [
        "#number of people with 2 or more returned cheques and income less than 50000"
      ],
      "metadata": {
        "id": "d6zNUNpBYjw8"
      }
    },
    {
      "cell_type": "code",
      "source": [
        "loanDf.filter((col(\" Returned Cheque\")>=2) & (col(\"Income\")<50000)).count()"
      ],
      "metadata": {
        "colab": {
          "base_uri": "https://localhost:8080/"
        },
        "id": "FnBlMmvMkAw3",
        "outputId": "7d687b82-bd60-4444-bfb5-eaa4b8860564"
      },
      "execution_count": null,
      "outputs": [
        {
          "output_type": "execute_result",
          "data": {
            "text/plain": [
              "137"
            ]
          },
          "metadata": {},
          "execution_count": 54
        }
      ]
    },
    {
      "cell_type": "markdown",
      "source": [
        "#number of people with 2 or more returned cheques and are single"
      ],
      "metadata": {
        "id": "udifwNUfZGXP"
      }
    },
    {
      "cell_type": "code",
      "metadata": {
        "id": "94f580fe",
        "colab": {
          "base_uri": "https://localhost:8080/"
        },
        "outputId": "0ea2866d-9df4-453a-bea7-a6912b3f33d8"
      },
      "source": [
        "loanDf.filter((col(\" Returned Cheque\")>=2) & (col(\"Marital Status\")<\"SINGLE\")).count()"
      ],
      "execution_count": null,
      "outputs": [
        {
          "output_type": "execute_result",
          "data": {
            "text/plain": [
              "283"
            ]
          },
          "metadata": {},
          "execution_count": 7
        }
      ]
    },
    {
      "cell_type": "markdown",
      "source": [
        "#number of people with expenditure over 50000 a month"
      ],
      "metadata": {
        "id": "siYMVUi0Zi1L"
      }
    },
    {
      "cell_type": "code",
      "source": [
        "loanDf.filter(col(\"Expenditure\")>50000).count()"
      ],
      "metadata": {
        "colab": {
          "base_uri": "https://localhost:8080/"
        },
        "id": "_rj1vk87ZHZ6",
        "outputId": "41a9e828-0f21-4165-deed-9eddfb77c1f5"
      },
      "execution_count": null,
      "outputs": [
        {
          "output_type": "execute_result",
          "data": {
            "text/plain": [
              "6"
            ]
          },
          "metadata": {},
          "execution_count": 8
        }
      ]
    },
    {
      "cell_type": "markdown",
      "source": [
        "#number of members who are elgible for credit card"
      ],
      "metadata": {
        "id": "hzD4opH4dQmt"
      }
    },
    {
      "cell_type": "code",
      "source": [
        "loanDf.filter((col(\"Income\") > 50000) & (col(\"Age\") >= 20) & (col(\"Age\") <= 60) & (col(\"Overdue\") <= 6) & (col(\" Returned Cheque\") <= 6) & (col(\" Dishonour of Bill\") <= 6)).count()"
      ],
      "metadata": {
        "colab": {
          "base_uri": "https://localhost:8080/"
        },
        "id": "ejMjOgVmcrIT",
        "outputId": "dabbd757-02b6-4e39-87c7-1ae04b5fd82e"
      },
      "execution_count": null,
      "outputs": [
        {
          "output_type": "execute_result",
          "data": {
            "text/plain": [
              "125"
            ]
          },
          "metadata": {},
          "execution_count": 18
        }
      ]
    },
    {
      "cell_type": "code",
      "source": [
        "creditDf=spark.read.csv(\"credit card.csv\",header=True,inferSchema=True)\n",
        "creditDf.show()"
      ],
      "metadata": {
        "colab": {
          "base_uri": "https://localhost:8080/"
        },
        "id": "23ssZgXadSnG",
        "outputId": "18c778b5-fb8a-4b21-e544-e4cf6ac9ff3c"
      },
      "execution_count": null,
      "outputs": [
        {
          "output_type": "stream",
          "name": "stdout",
          "text": [
            "+---------+----------+---------+-----------+---------+------+---+------+---------+-------------+--------------+---------------+------+\n",
            "|RowNumber|CustomerId|  Surname|CreditScore|Geography|Gender|Age|Tenure|  Balance|NumOfProducts|IsActiveMember|EstimatedSalary|Exited|\n",
            "+---------+----------+---------+-----------+---------+------+---+------+---------+-------------+--------------+---------------+------+\n",
            "|        1|  15634602| Hargrave|        619|   France|Female| 42|     2|      0.0|            1|             1|      101348.88|     1|\n",
            "|        2|  15647311|     Hill|        608|    Spain|Female| 41|     1| 83807.86|            1|             1|      112542.58|     0|\n",
            "|        3|  15619304|     Onio|        502|   France|Female| 42|     8| 159660.8|            3|             0|      113931.57|     1|\n",
            "|        4|  15701354|     Boni|        699|   France|Female| 39|     1|      0.0|            2|             0|       93826.63|     0|\n",
            "|        5|  15737888| Mitchell|        850|    Spain|Female| 43|     2|125510.82|            1|             1|        79084.1|     0|\n",
            "|        6|  15574012|      Chu|        645|    Spain|  Male| 44|     8|113755.78|            2|             0|      149756.71|     1|\n",
            "|        7|  15592531| Bartlett|        822|   France|  Male| 50|     7|      0.0|            2|             1|        10062.8|     0|\n",
            "|        8|  15656148|   Obinna|        376|  Germany|Female| 29|     4|115046.74|            4|             0|      119346.88|     1|\n",
            "|        9|  15792365|       He|        501|   France|  Male| 44|     4|142051.07|            2|             1|        74940.5|     0|\n",
            "|       10|  15592389|       H?|        684|   France|  Male| 27|     2|134603.88|            1|             1|       71725.73|     0|\n",
            "|       11|  15767821|   Bearce|        528|   France|  Male| 31|     6|102016.72|            2|             0|       80181.12|     0|\n",
            "|       12|  15737173|  Andrews|        497|    Spain|  Male| 24|     3|      0.0|            2|             0|       76390.01|     0|\n",
            "|       13|  15632264|      Kay|        476|   France|Female| 34|    10|      0.0|            2|             0|       26260.98|     0|\n",
            "|       14|  15691483|     Chin|        549|   France|Female| 25|     5|      0.0|            2|             0|      190857.79|     0|\n",
            "|       15|  15600882|    Scott|        635|    Spain|Female| 35|     7|      0.0|            2|             1|       65951.65|     0|\n",
            "|       16|  15643966|  Goforth|        616|  Germany|  Male| 45|     3|143129.41|            2|             1|       64327.26|     0|\n",
            "|       17|  15737452|    Romeo|        653|  Germany|  Male| 58|     1|132602.88|            1|             0|        5097.67|     1|\n",
            "|       18|  15788218|Henderson|        549|    Spain|Female| 24|     9|      0.0|            2|             1|       14406.41|     0|\n",
            "|       19|  15661507|  Muldrow|        587|    Spain|  Male| 45|     6|      0.0|            1|             0|      158684.81|     0|\n",
            "|       20|  15568982|      Hao|        726|   France|Female| 24|     6|      0.0|            2|             1|       54724.03|     0|\n",
            "+---------+----------+---------+-----------+---------+------+---+------+---------+-------------+--------------+---------------+------+\n",
            "only showing top 20 rows\n",
            "\n"
          ]
        }
      ]
    },
    {
      "cell_type": "markdown",
      "source": [
        "#credit card users in Spain"
      ],
      "metadata": {
        "id": "Cmh8nxjGeF0L"
      }
    },
    {
      "cell_type": "code",
      "source": [
        "creditDf.filter(col(\"Geography\")==\"Spain\").select(\"CustomerId\",\"Surname\",\"Age\",\"Gender\").show()"
      ],
      "metadata": {
        "colab": {
          "base_uri": "https://localhost:8080/"
        },
        "id": "TQ4I6XAwdjbB",
        "outputId": "84a0b7f9-b960-434e-bc34-e1cc701ce5cc"
      },
      "execution_count": null,
      "outputs": [
        {
          "output_type": "stream",
          "name": "stdout",
          "text": [
            "+----------+---------+---+------+\n",
            "|CustomerId|  Surname|Age|Gender|\n",
            "+----------+---------+---+------+\n",
            "|  15647311|     Hill| 41|Female|\n",
            "|  15737888| Mitchell| 43|Female|\n",
            "|  15574012|      Chu| 44|  Male|\n",
            "|  15737173|  Andrews| 24|  Male|\n",
            "|  15600882|    Scott| 35|Female|\n",
            "|  15788218|Henderson| 24|Female|\n",
            "|  15661507|  Muldrow| 45|  Male|\n",
            "|  15597945| Dellucci| 32|Female|\n",
            "|  15699309|Gerasimov| 38|Female|\n",
            "|  15589475|  Azikiwe| 39|Female|\n",
            "|  15659428|  Maggard| 42|Female|\n",
            "|  15732963| Clements| 29|Female|\n",
            "|  15788448|   Watson| 31|  Male|\n",
            "|  15729599|  Lorenzo| 33|  Male|\n",
            "|  15619360|    Hsiao| 40|  Male|\n",
            "|  15684171|  Bianchi| 61|Female|\n",
            "|  15623944|    T'ien| 66|Female|\n",
            "|  15702014|  Jeffrey| 33|  Male|\n",
            "|  15751208|  Pirozzi| 56|  Male|\n",
            "|  15812518|  Palermo| 37|Female|\n",
            "+----------+---------+---+------+\n",
            "only showing top 20 rows\n",
            "\n"
          ]
        }
      ]
    },
    {
      "cell_type": "markdown",
      "source": [
        "#number of members who are elgible and active in the bank"
      ],
      "metadata": {
        "id": "MkgAWEomec79"
      }
    },
    {
      "cell_type": "code",
      "source": [
        "creditDf.filter((col(\"IsActiveMember\")==1)&(col(\"Exited\")==1)).count()"
      ],
      "metadata": {
        "colab": {
          "base_uri": "https://localhost:8080/"
        },
        "id": "RGVZ8Nj0eG6A",
        "outputId": "6f818914-3345-4e9f-d894-499e46d5a5ce"
      },
      "execution_count": null,
      "outputs": [
        {
          "output_type": "execute_result",
          "data": {
            "text/plain": [
              "735"
            ]
          },
          "metadata": {},
          "execution_count": 23
        }
      ]
    },
    {
      "cell_type": "code",
      "source": [
        "txnDf=spark.read.csv(\"txn.csv\",header=True,inferSchema=True)\n",
        "txnDf.show()\n",
        "txnDf.count()\n",
        "txnDf.printSchema()\n"
      ],
      "metadata": {
        "colab": {
          "base_uri": "https://localhost:8080/"
        },
        "id": "RqMujLhUgj-F",
        "outputId": "f0eed0a5-182c-4064-8595-9c7dc3be92f9"
      },
      "execution_count": null,
      "outputs": [
        {
          "output_type": "stream",
          "name": "stdout",
          "text": [
            "+-------------+--------------------+----------+----------------+-------------+-----------+\n",
            "|   Account No| TRANSACTION DETAILS|VALUE DATE| WITHDRAWAL AMT | DEPOSIT AMT |BALANCE AMT|\n",
            "+-------------+--------------------+----------+----------------+-------------+-----------+\n",
            "|409000611074'|TRF FROM  Indiafo...| 29-Jun-17|            NULL|    1000000.0|  1000000.0|\n",
            "|409000611074'|TRF FROM  Indiafo...|  5-Jul-17|            NULL|    1000000.0|  2000000.0|\n",
            "|409000611074'|FDRL/INTERNAL FUN...| 18-Jul-17|            NULL|     500000.0|  2500000.0|\n",
            "|409000611074'|TRF FRM  Indiafor...|  1-Aug-17|            NULL|    3000000.0|  5500000.0|\n",
            "|409000611074'|FDRL/INTERNAL FUN...| 16-Aug-17|            NULL|     500000.0|  6000000.0|\n",
            "|409000611074'|FDRL/INTERNAL FUN...| 16-Aug-17|            NULL|     500000.0|  6500000.0|\n",
            "|409000611074'|FDRL/INTERNAL FUN...| 16-Aug-17|            NULL|     500000.0|  7000000.0|\n",
            "|409000611074'|FDRL/INTERNAL FUN...| 16-Aug-17|            NULL|     500000.0|  7500000.0|\n",
            "|409000611074'|FDRL/INTERNAL FUN...| 16-Aug-17|            NULL|     500000.0|  8000000.0|\n",
            "|409000611074'|FDRL/INTERNAL FUN...| 16-Aug-17|            NULL|     500000.0|  8500000.0|\n",
            "|409000611074'|INDO GIBL Indiafo...| 16-Aug-17|        133900.0|         NULL|  8366100.0|\n",
            "|409000611074'|INDO GIBL Indiafo...| 16-Aug-17|         18000.0|         NULL|  8348100.0|\n",
            "|409000611074'|INDO GIBL Indiafo...| 16-Aug-17|          5000.0|         NULL|  8343100.0|\n",
            "|409000611074'|INDO GIBL Indiafo...| 16-Aug-17|        195800.0|         NULL|  8147300.0|\n",
            "|409000611074'|INDO GIBL Indiafo...| 16-Aug-17|         81600.0|         NULL|  8065700.0|\n",
            "|409000611074'|INDO GIBL Indiafo...| 16-Aug-17|         41800.0|         NULL|  8023900.0|\n",
            "|409000611074'|INDO GIBL Indiafo...| 16-Aug-17|         98500.0|         NULL|  7925400.0|\n",
            "|409000611074'|INDO GIBL Indiafo...| 16-Aug-17|        143800.0|         NULL|  7781600.0|\n",
            "|409000611074'|INDO GIBL Indiafo...| 16-Aug-17|        331650.0|         NULL|  7449950.0|\n",
            "|409000611074'|INDO GIBL Indiafo...| 16-Aug-17|        129000.0|         NULL|  7320950.0|\n",
            "+-------------+--------------------+----------+----------------+-------------+-----------+\n",
            "only showing top 20 rows\n",
            "\n",
            "root\n",
            " |-- Account No: string (nullable = true)\n",
            " |-- TRANSACTION DETAILS: string (nullable = true)\n",
            " |-- VALUE DATE: string (nullable = true)\n",
            " |--  WITHDRAWAL AMT : double (nullable = true)\n",
            " |--  DEPOSIT AMT : double (nullable = true)\n",
            " |-- BALANCE AMT: double (nullable = true)\n",
            "\n"
          ]
        }
      ]
    },
    {
      "cell_type": "markdown",
      "source": [
        "#Maximum withdrawal amount in transactions"
      ],
      "metadata": {
        "id": "5Bn51CY5iFzj"
      }
    },
    {
      "cell_type": "code",
      "source": [
        "from pyspark.sql.functions import max\n",
        "txnDf.select(max(\" WITHDRAWAL AMT \").alias(\"Max withdrawal\")).show()"
      ],
      "metadata": {
        "colab": {
          "base_uri": "https://localhost:8080/"
        },
        "id": "qjWunuEkhUny",
        "outputId": "650a31c0-3673-4fb3-b8e9-d427496221d5"
      },
      "execution_count": null,
      "outputs": [
        {
          "output_type": "stream",
          "name": "stdout",
          "text": [
            "+--------------+\n",
            "|Max withdrawal|\n",
            "+--------------+\n",
            "| 4.594475464E8|\n",
            "+--------------+\n",
            "\n"
          ]
        }
      ]
    },
    {
      "cell_type": "markdown",
      "source": [
        "#MINIMUM WITHDRAWAL AMOUNT OF AN ACCOUNT in txn.csv"
      ],
      "metadata": {
        "id": "K3STxlv8jJkf"
      }
    },
    {
      "cell_type": "code",
      "source": [
        "from pyspark.sql.functions import min\n",
        "txnDf.select(min(\" WITHDRAWAL AMT \").alias(\"Min withdrawal\")).show()"
      ],
      "metadata": {
        "colab": {
          "base_uri": "https://localhost:8080/"
        },
        "id": "ne19ozI5iHGA",
        "outputId": "bacee17d-1f72-469b-f11c-c9bd8c22eb01"
      },
      "execution_count": null,
      "outputs": [
        {
          "output_type": "stream",
          "name": "stdout",
          "text": [
            "+--------------+\n",
            "|Min withdrawal|\n",
            "+--------------+\n",
            "|          0.01|\n",
            "+--------------+\n",
            "\n"
          ]
        }
      ]
    },
    {
      "cell_type": "markdown",
      "source": [
        "#MAXIMUM DEPOSIT AMOUNT OF AN ACCOUNT"
      ],
      "metadata": {
        "id": "pazEqp-JjczV"
      }
    },
    {
      "cell_type": "code",
      "source": [
        "txnDf.select(max(\" DEPOSIT AMT \").alias(\"Max deposit\")).show()"
      ],
      "metadata": {
        "colab": {
          "base_uri": "https://localhost:8080/"
        },
        "id": "2whHpTL0jQEf",
        "outputId": "819764b8-04b1-4c8b-f116-d38705103d4c"
      },
      "execution_count": null,
      "outputs": [
        {
          "output_type": "stream",
          "name": "stdout",
          "text": [
            "+-----------+\n",
            "|Max deposit|\n",
            "+-----------+\n",
            "|    5.448E8|\n",
            "+-----------+\n",
            "\n"
          ]
        }
      ]
    },
    {
      "cell_type": "markdown",
      "source": [
        "#MINIMUM DEPOSIT AMOUNT OF AN ACCOUNT"
      ],
      "metadata": {
        "id": "_A6kd85TjiJc"
      }
    },
    {
      "cell_type": "code",
      "source": [
        "txnDf.select(min(\" DEPOSIT AMT \").alias(\"Min deposit\")).show()"
      ],
      "metadata": {
        "colab": {
          "base_uri": "https://localhost:8080/"
        },
        "id": "bXs3Kj4sjenu",
        "outputId": "929570e8-6423-4baa-cb06-0beab0402724"
      },
      "execution_count": null,
      "outputs": [
        {
          "output_type": "stream",
          "name": "stdout",
          "text": [
            "+-----------+\n",
            "|Min deposit|\n",
            "+-----------+\n",
            "|       0.01|\n",
            "+-----------+\n",
            "\n"
          ]
        }
      ]
    },
    {
      "cell_type": "code",
      "source": [
        "txnDf.filter(col(\"BALANCE AMT\") <0).show()\n",
        "txnDf.filter(col(\"BALANCE AMT\") <0).count()"
      ],
      "metadata": {
        "colab": {
          "base_uri": "https://localhost:8080/"
        },
        "id": "E0KobEoWjpZp",
        "outputId": "874678b1-7070-4059-e2ca-4629b8027aa2"
      },
      "execution_count": null,
      "outputs": [
        {
          "output_type": "stream",
          "name": "stdout",
          "text": [
            "+-------------+--------------------+----------+----------------+-------------+--------------+\n",
            "|   Account No| TRANSACTION DETAILS|VALUE DATE| WITHDRAWAL AMT | DEPOSIT AMT |   BALANCE AMT|\n",
            "+-------------+--------------------+----------+----------------+-------------+--------------+\n",
            "|409000425051'|TRF TO Rajendra K...| 26-Oct-18|           1.5E7|         NULL|-1.454079965E7|\n",
            "|409000425051'|  TRF TO  Myur Joshi| 31-Oct-18|          3.54E8|         NULL|-3.535407997E8|\n",
            "|409000425051'|TRF TO  Indiafore...| 31-Oct-18|        900000.0|         NULL|-3.544407997E8|\n",
            "|409000425051'|409000425051:Int....| 31-Oct-18|         81569.0|         NULL|-3.545223687E8|\n",
            "|409000425051'|TRF FROM  Indiafo...| 27-Nov-18|            NULL|      81568.0|-3.544408007E8|\n",
            "|409000425051'|TRF FROM  Indiafo...| 27-Nov-18|            NULL|      10000.0|-3.544308007E8|\n",
            "|409000425051'|409000425051:Int....| 30-Nov-18|       2447599.0|         NULL|-3.568783997E8|\n",
            "|409000425051'|TRF FRM  Indiafor...| 17-Dec-18|            NULL|    2447600.0|-3.544307997E8|\n",
            "|409000425051'|409000425051:Int....| 31-Dec-18|       2539665.0|         NULL|-3.569704647E8|\n",
            "|409000425051'|TRF FROM  Indiafo...| 10-Jan-19|            NULL|    1539665.0|-3.554307997E8|\n",
            "|409000425051'|TRF FROM  Indiafo...| 11-Jan-19|            NULL|    1000000.0|-3.544307997E8|\n",
            "|409000425051'|409000425051:Int....| 31-Jan-19|       2535326.0|         NULL|-3.569661257E8|\n",
            "|409000425051'|409000425051:Int....| 28-Feb-19|       2303989.0|         NULL|-3.592701147E8|\n",
            "|409000425051'|FDRL/INTERNAL FUN...|  2-Mar-19|            NULL|    2535326.0|-3.567347887E8|\n",
            "|409000405747'|   TRF TO Maur Joshi| 30-Jan-16|           1.7E8|         NULL|-5.267347887E8|\n",
            "|409000405747'|TRF TO Indiaforen...| 30-Jan-16|           3.0E7|         NULL|-5.567347887E8|\n",
            "|409000405747'|409000405747:Int....| 31-Jan-16|        126230.0|         NULL|-5.568610187E8|\n",
            "|409000405747'|TRF FROM  Indiafo...|  1-Feb-16|            NULL|     130000.0|-5.567310187E8|\n",
            "|409000405747'|Indiaforensic INC...| 12-Feb-16|            NULL|     20316.84|-5.567107018E8|\n",
            "|409000405747'|409000405747:Int....| 29-Feb-16|       1830178.0|         NULL|-5.585408798E8|\n",
            "+-------------+--------------------+----------+----------------+-------------+--------------+\n",
            "only showing top 20 rows\n",
            "\n"
          ]
        },
        {
          "output_type": "execute_result",
          "data": {
            "text/plain": [
              "113276"
            ]
          },
          "metadata": {},
          "execution_count": 63
        }
      ]
    },
    {
      "cell_type": "code",
      "source": [
        "from pyspark.sql.functions import sum,count\n",
        "txnDf.groupBy(\"Account No\").agg(sum(\"BALANCE AMT\").alias(\"Total Balance\")).orderBy(col(\"Total Balance\").desc()).show()"
      ],
      "metadata": {
        "colab": {
          "base_uri": "https://localhost:8080/"
        },
        "id": "36Ypb56jlEHT",
        "outputId": "4af5d3a0-7e6f-4546-9f92-a12c0dc64bfa"
      },
      "execution_count": null,
      "outputs": [
        {
          "output_type": "stream",
          "name": "stdout",
          "text": [
            "+-------------+--------------------+\n",
            "|   Account No|       Total Balance|\n",
            "+-------------+--------------------+\n",
            "|409000611074'|       1.615533622E9|\n",
            "|409000493201'|1.0420831829499985E9|\n",
            "|409000425051'|-3.77211841164998...|\n",
            "|409000405747'|-2.43108047067000...|\n",
            "|409000438611'|-2.49486577068339...|\n",
            "|409000493210'|-3.27584952132095...|\n",
            "|409000438620'|-7.12291867951358...|\n",
            "|     1196711'|-1.60476498101275E13|\n",
            "|409000362497'| -5.2860004792808E13|\n",
            "|     1196428'| -8.1418498130721E13|\n",
            "+-------------+--------------------+\n",
            "\n"
          ]
        }
      ]
    },
    {
      "cell_type": "markdown",
      "source": [
        "#Number of transaction on each date"
      ],
      "metadata": {
        "id": "bITmNb8I3pav"
      }
    },
    {
      "cell_type": "code",
      "source": [
        "\n",
        "txnDf.groupBy(\"VALUE DATE\").agg(count(\"TRANSACTION DETAILS\").alias(\"Total Transaction\")).orderBy(col(\"Total Transaction\").desc()).show()"
      ],
      "metadata": {
        "colab": {
          "base_uri": "https://localhost:8080/"
        },
        "id": "G_auV9LHnpg8",
        "outputId": "d9a5381c-a7e1-40cf-ddc9-3d1abd845084"
      },
      "execution_count": null,
      "outputs": [
        {
          "output_type": "stream",
          "name": "stdout",
          "text": [
            "+----------+-----------------+\n",
            "|VALUE DATE|Total Transaction|\n",
            "+----------+-----------------+\n",
            "| 27-Jul-17|              567|\n",
            "| 13-Aug-18|              463|\n",
            "|  8-Nov-17|              402|\n",
            "|  7-Oct-17|              382|\n",
            "| 10-Jul-18|              374|\n",
            "| 12-Dec-17|              367|\n",
            "| 12-Sep-18|              365|\n",
            "|  9-Aug-18|              360|\n",
            "| 19-Sep-17|              358|\n",
            "| 16-Mar-17|              353|\n",
            "| 10-Sep-18|              344|\n",
            "| 14-Jul-17|              333|\n",
            "|  7-Mar-18|              319|\n",
            "| 11-Oct-18|              303|\n",
            "| 22-Aug-17|              301|\n",
            "|  9-Jan-18|              299|\n",
            "|  9-Oct-18|              297|\n",
            "| 20-Apr-18|              296|\n",
            "|  9-Jul-18|              292|\n",
            "|  7-Apr-18|              291|\n",
            "+----------+-----------------+\n",
            "only showing top 20 rows\n",
            "\n"
          ]
        }
      ]
    },
    {
      "cell_type": "code",
      "source": [
        "txnDf.filter(col(\" WITHDRAWAL AMT \")>100000).show()"
      ],
      "metadata": {
        "colab": {
          "base_uri": "https://localhost:8080/"
        },
        "id": "Mp6RTlZY3Ge7",
        "outputId": "58ce3ef3-406a-4e5c-d03a-77bf5b134e55"
      },
      "execution_count": null,
      "outputs": [
        {
          "output_type": "stream",
          "name": "stdout",
          "text": [
            "+-------------+--------------------+----------+----------------+-------------+-----------+\n",
            "|   Account No| TRANSACTION DETAILS|VALUE DATE| WITHDRAWAL AMT | DEPOSIT AMT |BALANCE AMT|\n",
            "+-------------+--------------------+----------+----------------+-------------+-----------+\n",
            "|409000611074'|INDO GIBL Indiafo...| 16-Aug-17|        133900.0|         NULL|  8366100.0|\n",
            "|409000611074'|INDO GIBL Indiafo...| 16-Aug-17|        195800.0|         NULL|  8147300.0|\n",
            "|409000611074'|INDO GIBL Indiafo...| 16-Aug-17|        143800.0|         NULL|  7781600.0|\n",
            "|409000611074'|INDO GIBL Indiafo...| 16-Aug-17|        331650.0|         NULL|  7449950.0|\n",
            "|409000611074'|INDO GIBL Indiafo...| 16-Aug-17|        129000.0|         NULL|  7320950.0|\n",
            "|409000611074'|INDO GIBL Indiafo...| 16-Aug-17|        230013.0|         NULL|  7090937.0|\n",
            "|409000611074'|INDO GIBL Indiafo...| 16-Aug-17|        367900.0|         NULL|  6723037.0|\n",
            "|409000611074'|INDO GIBL Indiafo...| 16-Aug-17|        108000.0|         NULL|  6615037.0|\n",
            "|409000611074'|INDO GIBL Indiafo...| 16-Aug-17|        141000.0|         NULL|  6409237.0|\n",
            "|409000611074'|INDO GIBL Indiafo...| 16-Aug-17|        206000.0|         NULL|  5959817.0|\n",
            "|409000611074'|INDO GIBL Indiafo...|  6-Sep-17|        242300.0|         NULL|  5350718.0|\n",
            "|409000611074'|INDO GIBL Indiafo...|  6-Sep-17|        113250.0|         NULL|  5147368.0|\n",
            "|409000611074'|INDO GIBL Indiafo...|  6-Sep-17|        206900.0|         NULL|  4887968.0|\n",
            "|409000611074'|INDO GIBL Indiafo...|  6-Sep-17|        276000.0|         NULL|  4611968.0|\n",
            "|409000611074'|INDO GIBL Indiafo...|  6-Sep-17|        171000.0|         NULL|  4440968.0|\n",
            "|409000611074'|INDO GIBL Indiafo...|  6-Sep-17|        189800.0|         NULL|  4211068.0|\n",
            "|409000611074'|INDO GIBL Indiafo...|  6-Sep-17|        271323.0|         NULL|  3788545.0|\n",
            "|409000611074'|INDO GIBL Indiafo...|  6-Sep-17|        200600.0|         NULL|  3587945.0|\n",
            "|409000611074'|INDO GIBL Indiafo...|  6-Sep-17|        176900.0|         NULL|  3411045.0|\n",
            "|409000611074'|INDO GIBL Indiafo...|  6-Sep-17|        150050.0|         NULL|  3260995.0|\n",
            "+-------------+--------------------+----------+----------------+-------------+-----------+\n",
            "only showing top 20 rows\n",
            "\n"
          ]
        }
      ]
    }
  ]
}